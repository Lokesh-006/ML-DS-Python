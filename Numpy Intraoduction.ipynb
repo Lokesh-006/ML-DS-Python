{
 "cells": [
  {
   "cell_type": "markdown",
   "id": "5d091b38",
   "metadata": {},
   "source": [
    "# NumPy Arrays "
   ]
  },
  {
   "cell_type": "code",
   "execution_count": 1,
   "id": "41ef0316",
   "metadata": {},
   "outputs": [],
   "source": [
    "import numpy as nmp"
   ]
  },
  {
   "cell_type": "code",
   "execution_count": 2,
   "id": "05a88fa6",
   "metadata": {},
   "outputs": [],
   "source": [
    "mylist = [1,2,3,4,6]"
   ]
  },
  {
   "cell_type": "code",
   "execution_count": 3,
   "id": "ec618235",
   "metadata": {},
   "outputs": [
    {
     "data": {
      "text/plain": [
       "list"
      ]
     },
     "execution_count": 3,
     "metadata": {},
     "output_type": "execute_result"
    }
   ],
   "source": [
    "type(mylist)"
   ]
  },
  {
   "cell_type": "code",
   "execution_count": 7,
   "id": "abad230c",
   "metadata": {},
   "outputs": [],
   "source": [
    "arr = nmp.array(mylist) # To conver list to array\n"
   ]
  },
  {
   "cell_type": "code",
   "execution_count": 8,
   "id": "98d7951b",
   "metadata": {},
   "outputs": [
    {
     "data": {
      "text/plain": [
       "array([1, 2, 3, 4, 6])"
      ]
     },
     "execution_count": 8,
     "metadata": {},
     "output_type": "execute_result"
    }
   ],
   "source": [
    "arr"
   ]
  },
  {
   "cell_type": "code",
   "execution_count": 9,
   "id": "5c9c6a03",
   "metadata": {},
   "outputs": [
    {
     "data": {
      "text/plain": [
       "numpy.ndarray"
      ]
     },
     "execution_count": 9,
     "metadata": {},
     "output_type": "execute_result"
    }
   ],
   "source": [
    "type(arr)"
   ]
  },
  {
   "cell_type": "markdown",
   "id": "8c8cce82",
   "metadata": {},
   "source": [
    "# creating a matrixs"
   ]
  },
  {
   "cell_type": "code",
   "execution_count": 10,
   "id": "258de4bb",
   "metadata": {},
   "outputs": [],
   "source": [
    "lst = [[1,2,3],[2,4,5],[6,7,8]]"
   ]
  },
  {
   "cell_type": "code",
   "execution_count": 11,
   "id": "700da985",
   "metadata": {},
   "outputs": [],
   "source": [
    "my_matrix= nmp.array(lst)"
   ]
  },
  {
   "cell_type": "code",
   "execution_count": 12,
   "id": "ec869bfb",
   "metadata": {},
   "outputs": [
    {
     "data": {
      "text/plain": [
       "array([[1, 2, 3],\n",
       "       [2, 4, 5],\n",
       "       [6, 7, 8]])"
      ]
     },
     "execution_count": 12,
     "metadata": {},
     "output_type": "execute_result"
    }
   ],
   "source": [
    "my_matrix"
   ]
  },
  {
   "cell_type": "code",
   "execution_count": 16,
   "id": "c47216e0",
   "metadata": {},
   "outputs": [
    {
     "data": {
      "text/plain": [
       "array([0, 3, 6, 9])"
      ]
     },
     "execution_count": 16,
     "metadata": {},
     "output_type": "execute_result"
    }
   ],
   "source": [
    "nmp.arange(0,10,3)"
   ]
  },
  {
   "cell_type": "code",
   "execution_count": 17,
   "id": "cd8afa54",
   "metadata": {},
   "outputs": [
    {
     "data": {
      "text/plain": [
       "array([1., 1., 1., 1.])"
      ]
     },
     "execution_count": 17,
     "metadata": {},
     "output_type": "execute_result"
    }
   ],
   "source": [
    "nmp.ones(4)"
   ]
  },
  {
   "cell_type": "code",
   "execution_count": 21,
   "id": "79294b60",
   "metadata": {},
   "outputs": [
    {
     "data": {
      "text/plain": [
       "array([[1., 1., 1., 1.],\n",
       "       [1., 1., 1., 1.],\n",
       "       [1., 1., 1., 1.]])"
      ]
     },
     "execution_count": 21,
     "metadata": {},
     "output_type": "execute_result"
    }
   ],
   "source": [
    "nmp.ones((3,4))"
   ]
  },
  {
   "cell_type": "code",
   "execution_count": 23,
   "id": "1b7260fa",
   "metadata": {},
   "outputs": [
    {
     "data": {
      "text/plain": [
       "array([[0., 0., 0., 0., 0.],\n",
       "       [0., 0., 0., 0., 0.],\n",
       "       [0., 0., 0., 0., 0.],\n",
       "       [0., 0., 0., 0., 0.],\n",
       "       [0., 0., 0., 0., 0.]])"
      ]
     },
     "execution_count": 23,
     "metadata": {},
     "output_type": "execute_result"
    }
   ],
   "source": [
    "nmp.zeros((5,5))"
   ]
  },
  {
   "cell_type": "code",
   "execution_count": 30,
   "id": "edb62602",
   "metadata": {},
   "outputs": [
    {
     "data": {
      "text/plain": [
       "array([[1., 0., 0., 0., 0.],\n",
       "       [0., 1., 0., 0., 0.],\n",
       "       [0., 0., 1., 0., 0.],\n",
       "       [0., 0., 0., 1., 0.],\n",
       "       [0., 0., 0., 0., 1.]])"
      ]
     },
     "execution_count": 30,
     "metadata": {},
     "output_type": "execute_result"
    }
   ],
   "source": [
    "nmp.eye(5)"
   ]
  },
  {
   "cell_type": "code",
   "execution_count": 38,
   "id": "4533a310",
   "metadata": {},
   "outputs": [
    {
     "data": {
      "text/plain": [
       "array([ 0. ,  2.5,  5. ,  7.5, 10. ])"
      ]
     },
     "execution_count": 38,
     "metadata": {},
     "output_type": "execute_result"
    }
   ],
   "source": [
    "nmp.linspace(0,10,5)"
   ]
  },
  {
   "cell_type": "code",
   "execution_count": 40,
   "id": "18e2e503",
   "metadata": {},
   "outputs": [
    {
     "data": {
      "text/plain": [
       "array([0.        , 0.11111111, 0.22222222, 0.33333333, 0.44444444,\n",
       "       0.55555556, 0.66666667, 0.77777778, 0.88888889, 1.        ])"
      ]
     },
     "execution_count": 40,
     "metadata": {},
     "output_type": "execute_result"
    }
   ],
   "source": [
    "nmp.linspace(0,1,10)"
   ]
  },
  {
   "cell_type": "code",
   "execution_count": 50,
   "id": "5bb84861",
   "metadata": {},
   "outputs": [
    {
     "data": {
      "text/plain": [
       "array([[0.32198507, 0.17226949, 0.665019  ],\n",
       "       [0.82362915, 0.54918256, 0.10301041],\n",
       "       [0.48591631, 0.05429869, 0.96673686]])"
      ]
     },
     "execution_count": 50,
     "metadata": {},
     "output_type": "execute_result"
    }
   ],
   "source": [
    "nmp.random.rand(3,3)"
   ]
  },
  {
   "cell_type": "code",
   "execution_count": 52,
   "id": "9c7b0615",
   "metadata": {},
   "outputs": [
    {
     "data": {
      "text/plain": [
       "array([[ 0.64403372,  1.22228967, -0.07612723],\n",
       "       [-0.09171736, -0.75279572, -0.64564037],\n",
       "       [ 1.12708416, -0.50860322, -0.05247353]])"
      ]
     },
     "execution_count": 52,
     "metadata": {},
     "output_type": "execute_result"
    }
   ],
   "source": [
    "nmp.random.randn(3,3)"
   ]
  },
  {
   "cell_type": "code",
   "execution_count": 64,
   "id": "7e122738",
   "metadata": {},
   "outputs": [
    {
     "data": {
      "text/plain": [
       "array([0.37454012, 0.95071431, 0.73199394, 0.59865848])"
      ]
     },
     "execution_count": 64,
     "metadata": {},
     "output_type": "execute_result"
    }
   ],
   "source": [
    "nmp.random.seed(42) # seed can not change the value of outpu with random function .\n",
    "nmp.random.rand(4)"
   ]
  },
  {
   "cell_type": "code",
   "execution_count": 65,
   "id": "2ae64eb7",
   "metadata": {},
   "outputs": [
    {
     "data": {
      "text/plain": [
       "array([39, 19, 23, 11, 11, 24, 36, 40, 24])"
      ]
     },
     "execution_count": 65,
     "metadata": {},
     "output_type": "execute_result"
    }
   ],
   "source": [
    "nmp.random.randint(1,50,9)"
   ]
  },
  {
   "cell_type": "code",
   "execution_count": 66,
   "id": "cde880cc",
   "metadata": {},
   "outputs": [
    {
     "data": {
      "text/plain": [
       "array([0.54340494, 0.27836939, 0.42451759, 0.84477613])"
      ]
     },
     "execution_count": 66,
     "metadata": {},
     "output_type": "execute_result"
    }
   ],
   "source": [
    "nmp.random.seed(100)\n",
    "nmp.random.rand(4)"
   ]
  },
  {
   "cell_type": "code",
   "execution_count": 67,
   "id": "b253d007",
   "metadata": {},
   "outputs": [
    {
     "data": {
      "text/plain": [
       "array([0.54340494, 0.27836939, 0.42451759, 0.84477613])"
      ]
     },
     "execution_count": 67,
     "metadata": {},
     "output_type": "execute_result"
    }
   ],
   "source": [
    "nmp.random.seed(100)\n",
    "nmp.random.rand(4)"
   ]
  },
  {
   "cell_type": "code",
   "execution_count": 68,
   "id": "e35a7c52",
   "metadata": {},
   "outputs": [
    {
     "data": {
      "text/plain": [
       "array([0.00471886, 0.12156912, 0.67074908, 0.82585276])"
      ]
     },
     "execution_count": 68,
     "metadata": {},
     "output_type": "execute_result"
    }
   ],
   "source": [
    "nmp.random.rand(4)"
   ]
  },
  {
   "cell_type": "code",
   "execution_count": 69,
   "id": "4aa2a7bd",
   "metadata": {},
   "outputs": [
    {
     "data": {
      "text/plain": [
       "array([0.13670659, 0.57509333, 0.89132195, 0.20920212])"
      ]
     },
     "execution_count": 69,
     "metadata": {},
     "output_type": "execute_result"
    }
   ],
   "source": [
    "nmp.random.rand(4)"
   ]
  },
  {
   "cell_type": "code",
   "execution_count": 70,
   "id": "eff20668",
   "metadata": {},
   "outputs": [
    {
     "data": {
      "text/plain": [
       "array([0.18532822, 0.10837689, 0.21969749, 0.97862378])"
      ]
     },
     "execution_count": 70,
     "metadata": {},
     "output_type": "execute_result"
    }
   ],
   "source": [
    "nmp.random.rand(4)"
   ]
  },
  {
   "cell_type": "code",
   "execution_count": 71,
   "id": "94a58a8f",
   "metadata": {},
   "outputs": [],
   "source": [
    "ary = nmp.arange(50)"
   ]
  },
  {
   "cell_type": "code",
   "execution_count": 72,
   "id": "c8b966f5",
   "metadata": {},
   "outputs": [
    {
     "data": {
      "text/plain": [
       "array([ 0,  1,  2,  3,  4,  5,  6,  7,  8,  9, 10, 11, 12, 13, 14, 15, 16,\n",
       "       17, 18, 19, 20, 21, 22, 23, 24, 25, 26, 27, 28, 29, 30, 31, 32, 33,\n",
       "       34, 35, 36, 37, 38, 39, 40, 41, 42, 43, 44, 45, 46, 47, 48, 49])"
      ]
     },
     "execution_count": 72,
     "metadata": {},
     "output_type": "execute_result"
    }
   ],
   "source": [
    "ary"
   ]
  },
  {
   "cell_type": "code",
   "execution_count": 73,
   "id": "1d524619",
   "metadata": {},
   "outputs": [
    {
     "data": {
      "text/plain": [
       "array([[ 0,  1,  2,  3,  4,  5,  6,  7,  8,  9],\n",
       "       [10, 11, 12, 13, 14, 15, 16, 17, 18, 19],\n",
       "       [20, 21, 22, 23, 24, 25, 26, 27, 28, 29],\n",
       "       [30, 31, 32, 33, 34, 35, 36, 37, 38, 39],\n",
       "       [40, 41, 42, 43, 44, 45, 46, 47, 48, 49]])"
      ]
     },
     "execution_count": 73,
     "metadata": {},
     "output_type": "execute_result"
    }
   ],
   "source": [
    "ary.reshape(5,10)"
   ]
  },
  {
   "cell_type": "code",
   "execution_count": 74,
   "id": "4769bce0",
   "metadata": {},
   "outputs": [],
   "source": [
    "raray = nmp.arange(1,101,6)"
   ]
  },
  {
   "cell_type": "code",
   "execution_count": 75,
   "id": "e6d4591e",
   "metadata": {},
   "outputs": [
    {
     "data": {
      "text/plain": [
       "array([ 1,  7, 13, 19, 25, 31, 37, 43, 49, 55, 61, 67, 73, 79, 85, 91, 97])"
      ]
     },
     "execution_count": 75,
     "metadata": {},
     "output_type": "execute_result"
    }
   ],
   "source": [
    "raray"
   ]
  },
  {
   "cell_type": "code",
   "execution_count": 79,
   "id": "8f02b769",
   "metadata": {},
   "outputs": [
    {
     "data": {
      "text/plain": [
       "97"
      ]
     },
     "execution_count": 79,
     "metadata": {},
     "output_type": "execute_result"
    }
   ],
   "source": [
    "raray.max()"
   ]
  },
  {
   "cell_type": "code",
   "execution_count": 80,
   "id": "bf577b77",
   "metadata": {},
   "outputs": [
    {
     "data": {
      "text/plain": [
       "1"
      ]
     },
     "execution_count": 80,
     "metadata": {},
     "output_type": "execute_result"
    }
   ],
   "source": [
    "raray.min()"
   ]
  },
  {
   "cell_type": "code",
   "execution_count": 81,
   "id": "4d557325",
   "metadata": {},
   "outputs": [
    {
     "data": {
      "text/plain": [
       "833"
      ]
     },
     "execution_count": 81,
     "metadata": {},
     "output_type": "execute_result"
    }
   ],
   "source": [
    "raray.sum()"
   ]
  },
  {
   "cell_type": "code",
   "execution_count": 82,
   "id": "02562ba4",
   "metadata": {},
   "outputs": [
    {
     "data": {
      "text/plain": [
       "16"
      ]
     },
     "execution_count": 82,
     "metadata": {},
     "output_type": "execute_result"
    }
   ],
   "source": [
    "raray.argmax()"
   ]
  },
  {
   "cell_type": "code",
   "execution_count": 1,
   "id": "452687ab",
   "metadata": {},
   "outputs": [],
   "source": [
    "import numpy as np\n",
    "dice_rolls = np.array([3, 1, 5, 2, 5, 1, 1, 5, 1, 4, 2, 1, 4, 5, 3, 4, 5, 2, 4, 2, 6, 6, 3, 6, 2, 3, 5, 6, 5])"
   ]
  },
  {
   "cell_type": "code",
   "execution_count": 7,
   "id": "587f1a61",
   "metadata": {},
   "outputs": [
    {
     "name": "stdout",
     "output_type": "stream",
     "text": [
      "(29,)\n"
     ]
    }
   ],
   "source": [
    "print(dice_rolls.shape)"
   ]
  },
  {
   "cell_type": "code",
   "execution_count": null,
   "id": "993e898c",
   "metadata": {},
   "outputs": [],
   "source": []
  }
 ],
 "metadata": {
  "kernelspec": {
   "display_name": "Python 3 (ipykernel)",
   "language": "python",
   "name": "python3"
  },
  "language_info": {
   "codemirror_mode": {
    "name": "ipython",
    "version": 3
   },
   "file_extension": ".py",
   "mimetype": "text/x-python",
   "name": "python",
   "nbconvert_exporter": "python",
   "pygments_lexer": "ipython3",
   "version": "3.9.13"
  }
 },
 "nbformat": 4,
 "nbformat_minor": 5
}
